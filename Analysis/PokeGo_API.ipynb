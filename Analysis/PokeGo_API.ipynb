{
 "cells": [
  {
   "cell_type": "code",
   "execution_count": 1,
   "metadata": {},
   "outputs": [],
   "source": [
    "import requests\n",
    "import json\n",
    "import pandas as pd\n",
    "import csv\n",
    "from pandas.io.json import json_normalize\n",
    "import sqlalchemy\n",
    "from sqlalchemy.ext.automap import automap_base\n",
    "from sqlalchemy.orm import Session\n",
    "from sqlalchemy import create_engine, inspect, MetaData, Table, Column, Integer, Text, Float\n",
    "from sqlalchemy import PrimaryKeyConstraint\n",
    "from sqlalchemy.ext.declarative import declarative_base\n",
    "\n",
    "# youtube vid for help https://youtu.be/LYh8ih2X5Oo"
   ]
  },
  {
   "cell_type": "code",
   "execution_count": 2,
   "metadata": {},
   "outputs": [],
   "source": [
    "#define function to use later, dynamically breaks down dictionary, list or nested dictionaries\n",
    "g = []\n",
    "def print_dict(v,prefix=''):\n",
    "    if isinstance(v,dict):\n",
    "        for k,v2 in v.items():\n",
    "            p2=\"{}.{}\".format(prefix,k)\n",
    "            print_dict(v2,p2)\n",
    "    elif isinstance(v,list):\n",
    "        for i,v2 in enumerate(v):\n",
    "            p2=\"{}.{}\".format(prefix,i)\n",
    "            print_dict(v2,p2)\n",
    "    else:\n",
    "        g.append(['{}'.format(prefix),v])\n",
    "    return g"
   ]
  },
  {
   "cell_type": "code",
   "execution_count": 3,
   "metadata": {},
   "outputs": [],
   "source": [
    "stub_url = \"https://pogoapi.net\"\n",
    "endpoints = {\n",
    "    \"pokemon_names\": \"/api/v1/pokemon_names.json\",\n",
    "    \"pokemon_types\": \"/api/v1/pokemon_types.json\",\n",
    "    \"pokemon_stats\": \"/api/v1/pokemon_stats.json\",\n",
    "    \"fast_moves\": \"/api/v1/fast_moves.json\",\n",
    "    \"charged_moves\": \"/api/v1/charged_moves.json\",\n",
    "    \"current_pokemon_moves\": \"/api/v1/current_pokemon_moves.json\",\n",
    "}\n",
    "\n",
    "url_list = []\n",
    "for key in endpoints:\n",
    "    url_list.append(stub_url + endpoints[key])"
   ]
  },
  {
   "cell_type": "code",
   "execution_count": 4,
   "metadata": {},
   "outputs": [
    {
     "data": {
      "text/html": [
       "<div>\n",
       "<style scoped>\n",
       "    .dataframe tbody tr th:only-of-type {\n",
       "        vertical-align: middle;\n",
       "    }\n",
       "\n",
       "    .dataframe tbody tr th {\n",
       "        vertical-align: top;\n",
       "    }\n",
       "\n",
       "    .dataframe thead th {\n",
       "        text-align: right;\n",
       "    }\n",
       "</style>\n",
       "<table border=\"1\" class=\"dataframe\">\n",
       "  <thead>\n",
       "    <tr style=\"text-align: right;\">\n",
       "      <th></th>\n",
       "      <th>id</th>\n",
       "      <th>name</th>\n",
       "    </tr>\n",
       "  </thead>\n",
       "  <tbody>\n",
       "    <tr>\n",
       "      <th>0</th>\n",
       "      <td>1</td>\n",
       "      <td>Bulbasaur</td>\n",
       "    </tr>\n",
       "    <tr>\n",
       "      <th>1</th>\n",
       "      <td>2</td>\n",
       "      <td>Ivysaur</td>\n",
       "    </tr>\n",
       "    <tr>\n",
       "      <th>2</th>\n",
       "      <td>3</td>\n",
       "      <td>Venusaur</td>\n",
       "    </tr>\n",
       "    <tr>\n",
       "      <th>3</th>\n",
       "      <td>4</td>\n",
       "      <td>Charmander</td>\n",
       "    </tr>\n",
       "    <tr>\n",
       "      <th>4</th>\n",
       "      <td>5</td>\n",
       "      <td>Charmeleon</td>\n",
       "    </tr>\n",
       "  </tbody>\n",
       "</table>\n",
       "</div>"
      ],
      "text/plain": [
       "  id        name\n",
       "0  1   Bulbasaur\n",
       "1  2     Ivysaur\n",
       "2  3    Venusaur\n",
       "3  4  Charmander\n",
       "4  5  Charmeleon"
      ]
     },
     "execution_count": 4,
     "metadata": {},
     "output_type": "execute_result"
    }
   ],
   "source": [
    "url_response0 = requests.get(f\"{url_list[0]}\").json() #first endpoint, pokemon_names\n",
    "\n",
    "df_0=pd.DataFrame.from_dict(print_dict(url_response0),orient='columns').T #convert from dict to df then transpose\n",
    "df_0.columns=df_0.iloc[0] #make first row column headers\n",
    "df_0.drop(df_0.index[0], inplace=True) #drop index, perform in place to avoid another variable\n",
    "\n",
    "names_ = []  #create empty list to hold column names\n",
    "for i in df_0.columns:\n",
    "    names_.append(i.split('.')[2]) #split column names on decimal delimiter\n",
    "df_0.columns=names_    #set new column names as headers\n",
    "df_id = df_0['id'].T.rename(columns={1:\"id\"}).reset_index(drop=True)\n",
    "df_name = df_0['name'].T.rename(columns={1:\"name\"}).reset_index(drop=True)\n",
    "frames = [df_id, df_name]\n",
    "pokemon_names = pd.concat(frames,axis=1) #merge indiv columns back together\n",
    "pokemon_names.head()"
   ]
  },
  {
   "cell_type": "code",
   "execution_count": 5,
   "metadata": {},
   "outputs": [
    {
     "data": {
      "text/plain": [
       "pandas.core.frame.DataFrame"
      ]
     },
     "execution_count": 5,
     "metadata": {},
     "output_type": "execute_result"
    }
   ],
   "source": [
    "type(pokemon_names)"
   ]
  },
  {
   "cell_type": "code",
   "execution_count": 6,
   "metadata": {},
   "outputs": [],
   "source": [
    "# Create an engine for the `pokemonGo.sqlite` database\n",
    "engine = create_engine(\"sqlite:///Resources/pokemonGo.sqlite\", echo=False)\n",
    "conn = engine.connect()"
   ]
  },
  {
   "cell_type": "code",
   "execution_count": 7,
   "metadata": {},
   "outputs": [],
   "source": [
    "Base = declarative_base()"
   ]
  },
  {
   "cell_type": "code",
   "execution_count": 8,
   "metadata": {},
   "outputs": [],
   "source": [
    "class tbl_pokemon_names(Base):\n",
    "    __tablename__ = 'tbl_pokemon_names'\n",
    "    \n",
    "    id = Column(Integer, primary_key=True)\n",
    "    name = Column(Text)"
   ]
  },
  {
   "cell_type": "code",
   "execution_count": 9,
   "metadata": {},
   "outputs": [],
   "source": [
    "Base.metadata.create_all(engine)\n",
    "metadata = MetaData(bind=engine)\n",
    "metadata.reflect()"
   ]
  },
  {
   "cell_type": "code",
   "execution_count": 10,
   "metadata": {},
   "outputs": [],
   "source": [
    "table_data = pokemon_names.to_dict(orient='records')"
   ]
  },
  {
   "cell_type": "code",
   "execution_count": 11,
   "metadata": {},
   "outputs": [],
   "source": [
    "pokemon_names_table = sqlalchemy.Table('tbl_pokemon_names', metadata, PrimaryKeyConstraint('id'),\n",
    "                                      autoload=True, extend_existing=True)"
   ]
  },
  {
   "cell_type": "code",
   "execution_count": 12,
   "metadata": {},
   "outputs": [
    {
     "data": {
      "text/plain": [
       "<sqlalchemy.engine.result.ResultProxy at 0x7faceaa81cd0>"
      ]
     },
     "execution_count": 12,
     "metadata": {},
     "output_type": "execute_result"
    }
   ],
   "source": [
    "conn.execute(pokemon_names_table.delete())\n",
    "conn.execute(pokemon_names_table.insert(),table_data)"
   ]
  },
  {
   "cell_type": "code",
   "execution_count": 13,
   "metadata": {},
   "outputs": [
    {
     "data": {
      "text/plain": [
       "['tbl_pokemon_names']"
      ]
     },
     "execution_count": 13,
     "metadata": {},
     "output_type": "execute_result"
    }
   ],
   "source": [
    " # Reflect Database into ORM classes\n",
    "Base = automap_base()\n",
    "Base.prepare(engine, reflect=True)\n",
    "Base.classes.keys()"
   ]
  },
  {
   "cell_type": "code",
   "execution_count": 14,
   "metadata": {},
   "outputs": [],
   "source": [
    "NameTable = Base.classes.tbl_pokemon_names"
   ]
  },
  {
   "cell_type": "code",
   "execution_count": 15,
   "metadata": {},
   "outputs": [],
   "source": [
    "session = Session(engine)"
   ]
  },
  {
   "cell_type": "code",
   "execution_count": 16,
   "metadata": {},
   "outputs": [
    {
     "data": {
      "text/plain": [
       "[(1, 'Bulbasaur'),\n",
       " (2, 'Ivysaur'),\n",
       " (3, 'Venusaur'),\n",
       " (4, 'Charmander'),\n",
       " (5, 'Charmeleon')]"
      ]
     },
     "execution_count": 16,
     "metadata": {},
     "output_type": "execute_result"
    }
   ],
   "source": [
    "list_of_names = session.query(NameTable.id, NameTable.name).limit(5).all()\n",
    "list_of_names"
   ]
  },
  {
   "cell_type": "code",
   "execution_count": 17,
   "metadata": {},
   "outputs": [],
   "source": [
    "session.close()"
   ]
  }
 ],
 "metadata": {
  "kernelspec": {
   "display_name": "Python 3",
   "language": "python",
   "name": "python3"
  },
  "language_info": {
   "codemirror_mode": {
    "name": "ipython",
    "version": 3
   },
   "file_extension": ".py",
   "mimetype": "text/x-python",
   "name": "python",
   "nbconvert_exporter": "python",
   "pygments_lexer": "ipython3",
   "version": "3.8.5"
  }
 },
 "nbformat": 4,
 "nbformat_minor": 4
}
