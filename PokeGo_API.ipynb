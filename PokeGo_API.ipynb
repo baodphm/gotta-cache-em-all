{
 "cells": [
  {
   "cell_type": "code",
   "execution_count": 2,
   "metadata": {},
   "outputs": [],
   "source": [
    "import requests\n",
    "import json\n",
    "import pandas as pd\n",
    "import csv"
   ]
  },
  {
   "cell_type": "code",
   "execution_count": 4,
   "metadata": {},
   "outputs": [],
   "source": [
    "url = \"https://pogoapi.net/api/v1/pokemon_genders.json\"\n",
    "url_response = requests.get(f\"{url}\").json()"
   ]
  },
  {
   "cell_type": "code",
   "execution_count": 21,
   "metadata": {},
   "outputs": [],
   "source": [
    "output = pd.DataFrame()\n",
    "\n",
    "for i in range(5):\n",
    "    dictionary = url_response[\"0M_1F\"][i]\n",
    "    output = output.append(dictionary, ignore_index=True)"
   ]
  },
  {
   "cell_type": "code",
   "execution_count": 22,
   "metadata": {},
   "outputs": [
    {
     "data": {
      "text/html": [
       "<div>\n",
       "<style scoped>\n",
       "    .dataframe tbody tr th:only-of-type {\n",
       "        vertical-align: middle;\n",
       "    }\n",
       "\n",
       "    .dataframe tbody tr th {\n",
       "        vertical-align: top;\n",
       "    }\n",
       "\n",
       "    .dataframe thead th {\n",
       "        text-align: right;\n",
       "    }\n",
       "</style>\n",
       "<table border=\"1\" class=\"dataframe\">\n",
       "  <thead>\n",
       "    <tr style=\"text-align: right;\">\n",
       "      <th></th>\n",
       "      <th>form</th>\n",
       "      <th>gender</th>\n",
       "      <th>pokemon_id</th>\n",
       "      <th>pokemon_name</th>\n",
       "    </tr>\n",
       "  </thead>\n",
       "  <tbody>\n",
       "    <tr>\n",
       "      <th>0</th>\n",
       "      <td>Vs_2019</td>\n",
       "      <td>{'female_percent': 1.0}</td>\n",
       "      <td>25.0</td>\n",
       "      <td>Pikachu</td>\n",
       "    </tr>\n",
       "    <tr>\n",
       "      <th>1</th>\n",
       "      <td>Normal</td>\n",
       "      <td>{'female_percent': 1.0}</td>\n",
       "      <td>29.0</td>\n",
       "      <td>Nidoran♀</td>\n",
       "    </tr>\n",
       "    <tr>\n",
       "      <th>2</th>\n",
       "      <td>Purified</td>\n",
       "      <td>{'female_percent': 1.0}</td>\n",
       "      <td>29.0</td>\n",
       "      <td>Nidoran♀</td>\n",
       "    </tr>\n",
       "    <tr>\n",
       "      <th>3</th>\n",
       "      <td>Shadow</td>\n",
       "      <td>{'female_percent': 1.0}</td>\n",
       "      <td>29.0</td>\n",
       "      <td>Nidoran♀</td>\n",
       "    </tr>\n",
       "    <tr>\n",
       "      <th>4</th>\n",
       "      <td>Normal</td>\n",
       "      <td>{'female_percent': 1.0}</td>\n",
       "      <td>30.0</td>\n",
       "      <td>Nidorina</td>\n",
       "    </tr>\n",
       "  </tbody>\n",
       "</table>\n",
       "</div>"
      ],
      "text/plain": [
       "       form                   gender  pokemon_id pokemon_name\n",
       "0   Vs_2019  {'female_percent': 1.0}        25.0      Pikachu\n",
       "1    Normal  {'female_percent': 1.0}        29.0     Nidoran♀\n",
       "2  Purified  {'female_percent': 1.0}        29.0     Nidoran♀\n",
       "3    Shadow  {'female_percent': 1.0}        29.0     Nidoran♀\n",
       "4    Normal  {'female_percent': 1.0}        30.0     Nidorina"
      ]
     },
     "execution_count": 22,
     "metadata": {},
     "output_type": "execute_result"
    }
   ],
   "source": [
    "output"
   ]
  },
  {
   "cell_type": "code",
   "execution_count": null,
   "metadata": {},
   "outputs": [],
   "source": []
  }
 ],
 "metadata": {
  "kernelspec": {
   "display_name": "Python 3",
   "language": "python",
   "name": "python3"
  },
  "language_info": {
   "codemirror_mode": {
    "name": "ipython",
    "version": 3
   },
   "file_extension": ".py",
   "mimetype": "text/x-python",
   "name": "python",
   "nbconvert_exporter": "python",
   "pygments_lexer": "ipython3",
   "version": "3.8.5"
  }
 },
 "nbformat": 4,
 "nbformat_minor": 4
}
